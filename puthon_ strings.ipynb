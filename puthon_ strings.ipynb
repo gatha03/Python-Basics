{
 "cells": [
  {
   "cell_type": "markdown",
   "id": "0a69abd9",
   "metadata": {},
   "source": [
    "# string is made of alphabets/characters\n",
    "# always put string with either single quotes or double quotes\n",
    "# strings in multiple lines are written within triple quotes"
   ]
  },
  {
   "cell_type": "code",
   "execution_count": 8,
   "id": "384ddd9e",
   "metadata": {},
   "outputs": [
    {
     "name": "stdout",
     "output_type": "stream",
     "text": [
      "Pineapple\n"
     ]
    }
   ],
   "source": [
    "s1 = 'Pineapple'\n",
    "print(s1)"
   ]
  },
  {
   "cell_type": "code",
   "execution_count": 4,
   "id": "421723ed",
   "metadata": {},
   "outputs": [
    {
     "data": {
      "text/plain": [
       "'pineapple'"
      ]
     },
     "execution_count": 4,
     "metadata": {},
     "output_type": "execute_result"
    }
   ],
   "source": [
    "\"pineapple\""
   ]
  },
  {
   "cell_type": "code",
   "execution_count": 5,
   "id": "a658fa9d",
   "metadata": {},
   "outputs": [
    {
     "data": {
      "text/plain": [
       "'how it happened, it was good,\\nwhy it is ,\\nwhaaat!!!'"
      ]
     },
     "execution_count": 5,
     "metadata": {},
     "output_type": "execute_result"
    }
   ],
   "source": [
    "\"\"\"how it happened, it was good,\n",
    "why it is ,\n",
    "whaaat!!!\"\"\" "
   ]
  },
  {
   "cell_type": "code",
   "execution_count": 11,
   "id": "b10180ad",
   "metadata": {},
   "outputs": [],
   "source": [
    "s1 = 'Rabit'"
   ]
  },
  {
   "cell_type": "code",
   "execution_count": 12,
   "id": "db039744",
   "metadata": {},
   "outputs": [
    {
     "data": {
      "text/plain": [
       "5"
      ]
     },
     "execution_count": 12,
     "metadata": {},
     "output_type": "execute_result"
    }
   ],
   "source": [
    "len(s1)"
   ]
  },
  {
   "cell_type": "code",
   "execution_count": 14,
   "id": "ca9a4608",
   "metadata": {},
   "outputs": [
    {
     "data": {
      "text/plain": [
       "'R'"
      ]
     },
     "execution_count": 14,
     "metadata": {},
     "output_type": "execute_result"
    }
   ],
   "source": [
    "s1[0]"
   ]
  },
  {
   "cell_type": "code",
   "execution_count": 15,
   "id": "9e232193",
   "metadata": {},
   "outputs": [
    {
     "data": {
      "text/plain": [
       "'b'"
      ]
     },
     "execution_count": 15,
     "metadata": {},
     "output_type": "execute_result"
    }
   ],
   "source": [
    "s1[2]"
   ]
  },
  {
   "cell_type": "code",
   "execution_count": 16,
   "id": "8bb44d16",
   "metadata": {},
   "outputs": [
    {
     "data": {
      "text/plain": [
       "('t', 'b')"
      ]
     },
     "execution_count": 16,
     "metadata": {},
     "output_type": "execute_result"
    }
   ],
   "source": [
    "s1[-1], s1[-3]"
   ]
  },
  {
   "cell_type": "code",
   "execution_count": null,
   "id": "d8d5ec53",
   "metadata": {},
   "outputs": [],
   "source": []
  }
 ],
 "metadata": {
  "kernelspec": {
   "display_name": "Python 3",
   "language": "python",
   "name": "python3"
  },
  "language_info": {
   "codemirror_mode": {
    "name": "ipython",
    "version": 3
   },
   "file_extension": ".py",
   "mimetype": "text/x-python",
   "name": "python",
   "nbconvert_exporter": "python",
   "pygments_lexer": "ipython3",
   "version": "3.9.0"
  }
 },
 "nbformat": 4,
 "nbformat_minor": 5
}
