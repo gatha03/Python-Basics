{
 "cells": [
  {
   "cell_type": "code",
   "execution_count": 66,
   "id": "e4a42eaf",
   "metadata": {},
   "outputs": [],
   "source": [
    "##list has items\n",
    "##list can contain numerical, categorical, boolen data"
   ]
  },
  {
   "cell_type": "code",
   "execution_count": 71,
   "id": "55647e0b",
   "metadata": {},
   "outputs": [
    {
     "name": "stdout",
     "output_type": "stream",
     "text": [
      "[1, 2, 3, 4, 5]\n"
     ]
    }
   ],
   "source": [
    "l1=[1,2,3,4,5]# list with numbers/integers\n",
    "print(l1)"
   ]
  },
  {
   "cell_type": "code",
   "execution_count": 44,
   "id": "6a15a4b5",
   "metadata": {},
   "outputs": [
    {
     "data": {
      "text/plain": [
       "['pineapple', 'orange', 'gauva']"
      ]
     },
     "execution_count": 44,
     "metadata": {},
     "output_type": "execute_result"
    }
   ],
   "source": [
    "['pineapple','orange','gauva'] #strings"
   ]
  },
  {
   "cell_type": "code",
   "execution_count": 54,
   "id": "ed0587fd",
   "metadata": {},
   "outputs": [
    {
     "data": {
      "text/plain": [
       "[True, False, True, True, False]"
      ]
     },
     "execution_count": 54,
     "metadata": {},
     "output_type": "execute_result"
    }
   ],
   "source": [
    "[True, False, True, True, False] # boolean"
   ]
  },
  {
   "cell_type": "code",
   "execution_count": 55,
   "id": "c25af074",
   "metadata": {},
   "outputs": [
    {
     "data": {
      "text/plain": [
       "[1, 'pineapple', True]"
      ]
     },
     "execution_count": 55,
     "metadata": {},
     "output_type": "execute_result"
    }
   ],
   "source": [
    "[1,'pineapple',True]# list with mixed data types"
   ]
  },
  {
   "cell_type": "code",
   "execution_count": 56,
   "id": "6ee4a313",
   "metadata": {},
   "outputs": [
    {
     "data": {
      "text/plain": [
       "[1, ['orange', 'fruit'], [True, False]]"
      ]
     },
     "execution_count": 56,
     "metadata": {},
     "output_type": "execute_result"
    }
   ],
   "source": [
    "[1, ['orange', 'fruit'], [True, False ]]# list with lists"
   ]
  },
  {
   "cell_type": "markdown",
   "id": "8efbcfc4",
   "metadata": {},
   "source": [
    "### .indexing lists"
   ]
  },
  {
   "cell_type": "code",
   "execution_count": 72,
   "id": "e27808e4",
   "metadata": {},
   "outputs": [
    {
     "data": {
      "text/plain": [
       "5"
      ]
     },
     "execution_count": 72,
     "metadata": {},
     "output_type": "execute_result"
    }
   ],
   "source": [
    "len(l1)"
   ]
  },
  {
   "cell_type": "code",
   "execution_count": 75,
   "id": "a5760dba",
   "metadata": {},
   "outputs": [
    {
     "data": {
      "text/plain": [
       "1"
      ]
     },
     "execution_count": 75,
     "metadata": {},
     "output_type": "execute_result"
    }
   ],
   "source": [
    "l1[0]"
   ]
  },
  {
   "cell_type": "code",
   "execution_count": 76,
   "id": "ee204306",
   "metadata": {},
   "outputs": [
    {
     "data": {
      "text/plain": [
       "(1, 2)"
      ]
     },
     "execution_count": 76,
     "metadata": {},
     "output_type": "execute_result"
    }
   ],
   "source": [
    "l1[0], l1[1]"
   ]
  },
  {
   "cell_type": "code",
   "execution_count": 79,
   "id": "5a736008",
   "metadata": {},
   "outputs": [
    {
     "data": {
      "text/plain": [
       "(4, 3)"
      ]
     },
     "execution_count": 79,
     "metadata": {},
     "output_type": "execute_result"
    }
   ],
   "source": [
    "l1[-2], l1[-3]"
   ]
  },
  {
   "cell_type": "code",
   "execution_count": null,
   "id": "d85e6088",
   "metadata": {},
   "outputs": [],
   "source": []
  }
 ],
 "metadata": {
  "kernelspec": {
   "display_name": "Python 3",
   "language": "python",
   "name": "python3"
  },
  "language_info": {
   "codemirror_mode": {
    "name": "ipython",
    "version": 3
   },
   "file_extension": ".py",
   "mimetype": "text/x-python",
   "name": "python",
   "nbconvert_exporter": "python",
   "pygments_lexer": "ipython3",
   "version": "3.9.0"
  }
 },
 "nbformat": 4,
 "nbformat_minor": 5
}
