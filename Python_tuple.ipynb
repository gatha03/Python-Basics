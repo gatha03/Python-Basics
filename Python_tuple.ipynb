{
 "cells": [
  {
   "cell_type": "code",
   "execution_count": 2,
   "id": "2ef3f29d",
   "metadata": {},
   "outputs": [],
   "source": [
    " tup = (1,2,3,4,5)"
   ]
  },
  {
   "cell_type": "code",
   "execution_count": 3,
   "id": "070bb55b",
   "metadata": {},
   "outputs": [
    {
     "data": {
      "text/plain": [
       "1"
      ]
     },
     "execution_count": 3,
     "metadata": {},
     "output_type": "execute_result"
    }
   ],
   "source": [
    "tup[0]"
   ]
  },
  {
   "cell_type": "code",
   "execution_count": 4,
   "id": "e065a391",
   "metadata": {},
   "outputs": [
    {
     "data": {
      "text/plain": [
       "2"
      ]
     },
     "execution_count": 4,
     "metadata": {},
     "output_type": "execute_result"
    }
   ],
   "source": [
    "tup[1]"
   ]
  },
  {
   "cell_type": "code",
   "execution_count": 5,
   "id": "3863d1fe",
   "metadata": {},
   "outputs": [
    {
     "data": {
      "text/plain": [
       "3"
      ]
     },
     "execution_count": 5,
     "metadata": {},
     "output_type": "execute_result"
    }
   ],
   "source": [
    "tup[2]"
   ]
  },
  {
   "cell_type": "code",
   "execution_count": 6,
   "id": "43096a02",
   "metadata": {},
   "outputs": [
    {
     "data": {
      "text/plain": [
       "5"
      ]
     },
     "execution_count": 6,
     "metadata": {},
     "output_type": "execute_result"
    }
   ],
   "source": [
    "tup[4]"
   ]
  },
  {
   "cell_type": "code",
   "execution_count": 8,
   "id": "9eb13726",
   "metadata": {},
   "outputs": [],
   "source": [
    "tup = ('apple', 'kiwi','pinepple')"
   ]
  },
  {
   "cell_type": "code",
   "execution_count": 9,
   "id": "d0f52cd4",
   "metadata": {},
   "outputs": [
    {
     "data": {
      "text/plain": [
       "'kiwi'"
      ]
     },
     "execution_count": 9,
     "metadata": {},
     "output_type": "execute_result"
    }
   ],
   "source": [
    "tup[1]"
   ]
  },
  {
   "cell_type": "code",
   "execution_count": 11,
   "id": "53511252",
   "metadata": {},
   "outputs": [
    {
     "data": {
      "text/plain": [
       "'apple'"
      ]
     },
     "execution_count": 11,
     "metadata": {},
     "output_type": "execute_result"
    }
   ],
   "source": [
    "tup[0]"
   ]
  },
  {
   "cell_type": "code",
   "execution_count": 13,
   "id": "29fbd47b",
   "metadata": {},
   "outputs": [
    {
     "data": {
      "text/plain": [
       "('apple', 'kiwi', 'pinepple', 4, 5, 6)"
      ]
     },
     "execution_count": 13,
     "metadata": {},
     "output_type": "execute_result"
    }
   ],
   "source": [
    "tup + (4, 5, 6)"
   ]
  },
  {
   "cell_type": "code",
   "execution_count": 14,
   "id": "3354bb33",
   "metadata": {},
   "outputs": [
    {
     "data": {
      "text/plain": [
       "3"
      ]
     },
     "execution_count": 14,
     "metadata": {},
     "output_type": "execute_result"
    }
   ],
   "source": [
    "len(tup)"
   ]
  },
  {
   "cell_type": "code",
   "execution_count": 15,
   "id": "81461968",
   "metadata": {},
   "outputs": [
    {
     "data": {
      "text/plain": [
       "('apple', 'kiwi')"
      ]
     },
     "execution_count": 15,
     "metadata": {},
     "output_type": "execute_result"
    }
   ],
   "source": [
    "tup[:2]"
   ]
  },
  {
   "cell_type": "code",
   "execution_count": 16,
   "id": "d2034c54",
   "metadata": {},
   "outputs": [
    {
     "data": {
      "text/plain": [
       "('apple',)"
      ]
     },
     "execution_count": 16,
     "metadata": {},
     "output_type": "execute_result"
    }
   ],
   "source": [
    "tup[:1]"
   ]
  },
  {
   "cell_type": "code",
   "execution_count": 17,
   "id": "af87a8af",
   "metadata": {},
   "outputs": [
    {
     "data": {
      "text/plain": [
       "('apple', 'kiwi', 'pinepple')"
      ]
     },
     "execution_count": 17,
     "metadata": {},
     "output_type": "execute_result"
    }
   ],
   "source": [
    "tup[:3]"
   ]
  },
  {
   "cell_type": "code",
   "execution_count": 19,
   "id": "8025bc02",
   "metadata": {},
   "outputs": [],
   "source": [
    "a, b, c = (1, 2, 3) "
   ]
  },
  {
   "cell_type": "code",
   "execution_count": 20,
   "id": "0d7ec54d",
   "metadata": {},
   "outputs": [
    {
     "data": {
      "text/plain": [
       "3"
      ]
     },
     "execution_count": 20,
     "metadata": {},
     "output_type": "execute_result"
    }
   ],
   "source": [
    "len(tup)"
   ]
  },
  {
   "cell_type": "code",
   "execution_count": 21,
   "id": "c763923f",
   "metadata": {},
   "outputs": [],
   "source": [
    "a, *b, c = (1, 2, 3, 4)"
   ]
  },
  {
   "cell_type": "code",
   "execution_count": 23,
   "id": "3a3902f5",
   "metadata": {},
   "outputs": [],
   "source": [
    "d, e, f = 4, 5, 6"
   ]
  },
  {
   "cell_type": "code",
   "execution_count": 24,
   "id": "fdb2335b",
   "metadata": {},
   "outputs": [
    {
     "data": {
      "text/plain": [
       "('apple', 'kiwi')"
      ]
     },
     "execution_count": 24,
     "metadata": {},
     "output_type": "execute_result"
    }
   ],
   "source": [
    "tup[:2]"
   ]
  },
  {
   "cell_type": "code",
   "execution_count": 25,
   "id": "f88a5360",
   "metadata": {},
   "outputs": [],
   "source": [
    "tup = d, e, f"
   ]
  },
  {
   "cell_type": "code",
   "execution_count": 26,
   "id": "c6c0271c",
   "metadata": {},
   "outputs": [
    {
     "data": {
      "text/plain": [
       "(4, 5, 6)"
      ]
     },
     "execution_count": 26,
     "metadata": {},
     "output_type": "execute_result"
    }
   ],
   "source": [
    "d, e, f"
   ]
  },
  {
   "cell_type": "code",
   "execution_count": 30,
   "id": "04058cd7",
   "metadata": {},
   "outputs": [
    {
     "name": "stdout",
     "output_type": "stream",
     "text": [
      "(1, 2, 3, 4, 5)\n"
     ]
    }
   ],
   "source": [
    "a = (1,2,3,4,5)\n",
    "print(a)"
   ]
  },
  {
   "cell_type": "code",
   "execution_count": 31,
   "id": "23a3b1a9",
   "metadata": {},
   "outputs": [
    {
     "data": {
      "text/plain": [
       "3"
      ]
     },
     "execution_count": 31,
     "metadata": {},
     "output_type": "execute_result"
    }
   ],
   "source": [
    "a[2]"
   ]
  },
  {
   "cell_type": "code",
   "execution_count": 32,
   "id": "aa8a3f2c",
   "metadata": {},
   "outputs": [
    {
     "data": {
      "text/plain": [
       "5"
      ]
     },
     "execution_count": 32,
     "metadata": {},
     "output_type": "execute_result"
    }
   ],
   "source": [
    "a[-1]"
   ]
  },
  {
   "cell_type": "raw",
   "id": "8cb50d51",
   "metadata": {},
   "source": [
    "slicing"
   ]
  },
  {
   "cell_type": "code",
   "execution_count": 34,
   "id": "76f02e5b",
   "metadata": {},
   "outputs": [
    {
     "name": "stdout",
     "output_type": "stream",
     "text": [
      "(1, 2, 3, 4, 5, 6, 7)\n"
     ]
    }
   ],
   "source": [
    "b = (1,2,3,4,5,6,7)\n",
    "print(b)"
   ]
  },
  {
   "cell_type": "code",
   "execution_count": 35,
   "id": "f0d09e38",
   "metadata": {},
   "outputs": [
    {
     "data": {
      "text/plain": [
       "(1, 2, 3, 4, 5, 6, 7)"
      ]
     },
     "execution_count": 35,
     "metadata": {},
     "output_type": "execute_result"
    }
   ],
   "source": [
    "b[0:]"
   ]
  },
  {
   "cell_type": "code",
   "execution_count": 37,
   "id": "9b0b555e",
   "metadata": {},
   "outputs": [
    {
     "data": {
      "text/plain": [
       "(1, 2, 3, 4, 5, 6)"
      ]
     },
     "execution_count": 37,
     "metadata": {},
     "output_type": "execute_result"
    }
   ],
   "source": [
    "b[0:6]"
   ]
  },
  {
   "cell_type": "code",
   "execution_count": 38,
   "id": "2b84598c",
   "metadata": {},
   "outputs": [
    {
     "data": {
      "text/plain": [
       "1"
      ]
     },
     "execution_count": 38,
     "metadata": {},
     "output_type": "execute_result"
    }
   ],
   "source": [
    "b[-7]"
   ]
  },
  {
   "cell_type": "code",
   "execution_count": 39,
   "id": "d0475534",
   "metadata": {},
   "outputs": [
    {
     "data": {
      "text/plain": [
       "(3, 4)"
      ]
     },
     "execution_count": 39,
     "metadata": {},
     "output_type": "execute_result"
    }
   ],
   "source": [
    "b[-5:-3]"
   ]
  },
  {
   "cell_type": "raw",
   "id": "66a4f1af",
   "metadata": {},
   "source": [
    "changing a tuple"
   ]
  },
  {
   "cell_type": "code",
   "execution_count": 48,
   "id": "e1e4ae41",
   "metadata": {},
   "outputs": [
    {
     "name": "stdout",
     "output_type": "stream",
     "text": [
      "(1, 2, 3, [4, 5, 6, 7])\n"
     ]
    }
   ],
   "source": [
    "a = (1,2,3,[4,5,6,7])\n",
    "print(a)"
   ]
  },
  {
   "cell_type": "code",
   "execution_count": 49,
   "id": "9281ff2d",
   "metadata": {},
   "outputs": [
    {
     "name": "stdout",
     "output_type": "stream",
     "text": [
      "(1, 2, 3, [4, 6, 6, 7])\n"
     ]
    }
   ],
   "source": [
    "a[3][1]=6\n",
    "print(a)"
   ]
  },
  {
   "cell_type": "code",
   "execution_count": 51,
   "id": "7938bcd4",
   "metadata": {},
   "outputs": [
    {
     "name": "stdout",
     "output_type": "stream",
     "text": [
      "(1, 2, 3, [4, 5, 6, 7])\n"
     ]
    }
   ],
   "source": [
    "a[3][1]=5\n",
    "print(a)"
   ]
  },
  {
   "cell_type": "raw",
   "id": "530be69e",
   "metadata": {},
   "source": [
    "concanating of two tuple"
   ]
  },
  {
   "cell_type": "code",
   "execution_count": 52,
   "id": "33d08248",
   "metadata": {},
   "outputs": [
    {
     "name": "stdout",
     "output_type": "stream",
     "text": [
      "(1, 2, 3, [4, 5, 6, 7], 1, 2, 3, 4, 5, 6, 7)\n"
     ]
    }
   ],
   "source": [
    "c = a+b\n",
    "print(c)"
   ]
  },
  {
   "cell_type": "markdown",
   "id": "caa42de6",
   "metadata": {},
   "source": [
    "# Tuple method"
   ]
  },
  {
   "cell_type": "raw",
   "id": "536ed0ca",
   "metadata": {},
   "source": [
    "count method : Returns the count of the element"
   ]
  },
  {
   "cell_type": "raw",
   "id": "f4e11990",
   "metadata": {},
   "source": [
    "Index method : Returns the index number of the element"
   ]
  },
  {
   "cell_type": "code",
   "execution_count": 54,
   "id": "b67ab02e",
   "metadata": {},
   "outputs": [
    {
     "name": "stdout",
     "output_type": "stream",
     "text": [
      "(1, 1, 1, 1, 1, 2, 3, 4, 5)\n"
     ]
    }
   ],
   "source": [
    "a = (1,1,1,1,1,2,3,4,5)\n",
    "print(a)"
   ]
  },
  {
   "cell_type": "code",
   "execution_count": 55,
   "id": "c6a2a32e",
   "metadata": {},
   "outputs": [
    {
     "data": {
      "text/plain": [
       "5"
      ]
     },
     "execution_count": 55,
     "metadata": {},
     "output_type": "execute_result"
    }
   ],
   "source": [
    "a.count(1)"
   ]
  },
  {
   "cell_type": "code",
   "execution_count": 57,
   "id": "dedc074e",
   "metadata": {},
   "outputs": [
    {
     "data": {
      "text/plain": [
       "8"
      ]
     },
     "execution_count": 57,
     "metadata": {},
     "output_type": "execute_result"
    }
   ],
   "source": [
    "a.index(5)"
   ]
  },
  {
   "cell_type": "markdown",
   "id": "d99c9a59",
   "metadata": {},
   "source": [
    "# Tuple constructor"
   ]
  },
  {
   "cell_type": "code",
   "execution_count": 58,
   "id": "59aaf7b8",
   "metadata": {},
   "outputs": [
    {
     "name": "stdout",
     "output_type": "stream",
     "text": [
      "(1, 2, 3, 4, 5)\n"
     ]
    }
   ],
   "source": [
    "a = (1,2,3,4,5)\n",
    "print(a)"
   ]
  },
  {
   "cell_type": "code",
   "execution_count": 59,
   "id": "a303929f",
   "metadata": {},
   "outputs": [],
   "source": [
    "b = tuple(a)"
   ]
  },
  {
   "cell_type": "code",
   "execution_count": 60,
   "id": "dd852ae0",
   "metadata": {},
   "outputs": [
    {
     "name": "stdout",
     "output_type": "stream",
     "text": [
      "(1, 2, 3, 4, 5)\n"
     ]
    }
   ],
   "source": [
    "print(b)"
   ]
  },
  {
   "cell_type": "code",
   "execution_count": 62,
   "id": "d780327f",
   "metadata": {},
   "outputs": [
    {
     "name": "stdout",
     "output_type": "stream",
     "text": [
      "1\n",
      "2\n",
      "3\n",
      "4\n",
      "5\n",
      "6\n",
      "7\n",
      "8\n",
      "9\n"
     ]
    }
   ],
   "source": [
    "# iterating through tuple\n",
    "a = (1,2,3,4,5,6,7,8,9)\n",
    "for i in a:\n",
    "    print(i)"
   ]
  },
  {
   "cell_type": "code",
   "execution_count": 64,
   "id": "aa62ff50",
   "metadata": {},
   "outputs": [
    {
     "name": "stdout",
     "output_type": "stream",
     "text": [
      "(1, 2, 3, 4, 5, 6, 7, 8, 9)\n"
     ]
    }
   ],
   "source": [
    "# membership test\n",
    "print(a)"
   ]
  },
  {
   "cell_type": "code",
   "execution_count": 65,
   "id": "d6e3003f",
   "metadata": {},
   "outputs": [
    {
     "name": "stdout",
     "output_type": "stream",
     "text": [
      "True\n"
     ]
    }
   ],
   "source": [
    "print(7 in a)"
   ]
  },
  {
   "cell_type": "code",
   "execution_count": 66,
   "id": "a17d824a",
   "metadata": {},
   "outputs": [
    {
     "name": "stdout",
     "output_type": "stream",
     "text": [
      "False\n"
     ]
    }
   ],
   "source": [
    "print(10 in a)"
   ]
  },
  {
   "cell_type": "code",
   "execution_count": 67,
   "id": "00ae7275",
   "metadata": {},
   "outputs": [
    {
     "name": "stdout",
     "output_type": "stream",
     "text": [
      "True\n"
     ]
    }
   ],
   "source": [
    "print(1 in a)"
   ]
  },
  {
   "cell_type": "code",
   "execution_count": null,
   "id": "77a8100c",
   "metadata": {},
   "outputs": [],
   "source": []
  }
 ],
 "metadata": {
  "kernelspec": {
   "display_name": "Python 3",
   "language": "python",
   "name": "python3"
  },
  "language_info": {
   "codemirror_mode": {
    "name": "ipython",
    "version": 3
   },
   "file_extension": ".py",
   "mimetype": "text/x-python",
   "name": "python",
   "nbconvert_exporter": "python",
   "pygments_lexer": "ipython3",
   "version": "3.9.0"
  }
 },
 "nbformat": 4,
 "nbformat_minor": 5
}
