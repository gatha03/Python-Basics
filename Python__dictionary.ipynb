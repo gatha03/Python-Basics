{
 "cells": [
  {
   "cell_type": "code",
   "execution_count": 1,
   "id": "dd7eab5a",
   "metadata": {},
   "outputs": [],
   "source": [
    "# dictionary is a collection of key-value pairs\n",
    "# always put dictionary within {} curly brackets\n",
    "# dictionary can take any data type"
   ]
  },
  {
   "cell_type": "code",
   "execution_count": 2,
   "id": "2b66f194",
   "metadata": {},
   "outputs": [
    {
     "data": {
      "text/plain": [
       "{'fruit', 'pineapple'}"
      ]
     },
     "execution_count": 2,
     "metadata": {},
     "output_type": "execute_result"
    }
   ],
   "source": [
    "{'pineapple', 'fruit'}"
   ]
  },
  {
   "cell_type": "code",
   "execution_count": 3,
   "id": "518ac9b2",
   "metadata": {},
   "outputs": [
    {
     "data": {
      "text/plain": [
       "{'pineapple': 'fruit', 'potato': 'vegetable'}"
      ]
     },
     "execution_count": 3,
     "metadata": {},
     "output_type": "execute_result"
    }
   ],
   "source": [
    "{'pineapple' : 'fruit', \n",
    " 'potato' : 'vegetable'} "
   ]
  },
  {
   "cell_type": "code",
   "execution_count": 9,
   "id": "374c889b",
   "metadata": {},
   "outputs": [
    {
     "data": {
      "text/plain": [
       "{'grocery': ['pineapple', 'parleg', 'veseline'], 'price': [5, 2, 6]}"
      ]
     },
     "execution_count": 9,
     "metadata": {},
     "output_type": "execute_result"
    }
   ],
   "source": [
    "{'grocery' : ['pineapple', 'parleg', 'veseline'],\n",
    " 'price' : [5, 2, 6]} "
   ]
  },
  {
   "cell_type": "code",
   "execution_count": null,
   "id": "6fb41abf",
   "metadata": {},
   "outputs": [],
   "source": []
  },
  {
   "cell_type": "code",
   "execution_count": null,
   "id": "e7674c61",
   "metadata": {},
   "outputs": [],
   "source": []
  }
 ],
 "metadata": {
  "kernelspec": {
   "display_name": "Python 3",
   "language": "python",
   "name": "python3"
  },
  "language_info": {
   "codemirror_mode": {
    "name": "ipython",
    "version": 3
   },
   "file_extension": ".py",
   "mimetype": "text/x-python",
   "name": "python",
   "nbconvert_exporter": "python",
   "pygments_lexer": "ipython3",
   "version": "3.9.0"
  }
 },
 "nbformat": 4,
 "nbformat_minor": 5
}
